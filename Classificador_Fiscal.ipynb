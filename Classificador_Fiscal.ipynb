{
  "cells": [
    {
      "cell_type": "code",
      "execution_count": 1,
      "metadata": {
        "id": "GuUU7aVr7GLP"
      },
      "outputs": [],
      "source": [
        "import pandas as pd\n",
        "import openpyxl\n",
        "import numpy as np\n",
        "import os\n",
        "import requests\n",
        "import re\n",
        "import spacy\n",
        "import gc\n",
        "import zipfile\n",
        "\n",
        "from collections import Counter\n",
        "# from imblearn.under_sampling import RandomUnderSampler\n",
        "\n",
        "excel_dir  = r\"D:\\Arquivos de Programas HDD\\IMDEPA ROLAMENTOS IMPORTACAO E COMA\\Canal de Equipe - Suprimentos\\IMP\\1. SOURCING\\8. PROJETOS\\PYTHON\\NCM_CLASSIFIER\\xlsx\"\n",
        "feather_dir  = r\"D:\\Arquivos de Programas HDD\\IMDEPA ROLAMENTOS IMPORTACAO E COMA\\Canal de Equipe - Suprimentos\\IMP\\1. SOURCING\\8. PROJETOS\\PYTHON\\NCM_CLASSIFIER\\ftrs\"\n",
        "os.makedirs(excel_dir, exist_ok=True)\n",
        "os.makedirs(feather_dir, exist_ok=True)"
      ]
    },
    {
      "cell_type": "code",
      "execution_count": 2,
      "metadata": {
        "id": "SZXII6hMo8EL"
      },
      "outputs": [],
      "source": [
        "url = \"https://www.ime.usp.br/~pf/dicios/br-sem-acentos.txt\"\n",
        "response = requests.get(url)\n",
        "with open(\"br-sem-acentos.txt\", \"wb\") as f:\n",
        "    content = response.content.decode(\"ASCII\")\n",
        "    lingua_pt_br = content.split()\n",
        "\n",
        "url = \"https://raw.githubusercontent.com/stopwords-iso/stopwords-pt/master/stopwords-pt.txt\"\n",
        "response = requests.get(url)\n",
        "with open(\"stopwords-pt.txt\", \"wb\") as f:\n",
        "    content = response.content.decode(\"utf-8\")\n",
        "    stopwords_pt_br = content.split()\n",
        "\n",
        "decoded_stp_wrds = []\n",
        "\n",
        "for word in stopwords_pt_br:\n",
        "    word = unidecode(word)\n",
        "    decoded_stp_wrds.append(word)\n",
        "    decoded_stp_wrds.append(\"marca\")\n",
        "\n",
        "stopwords_pt_br = set(decoded_stp_wrds)\n",
        "\n",
        "del decoded_stp_wrds\n",
        "del url\n",
        "del response\n",
        "del content\n",
        "lingua_pt_br = [palavra for palavra in lingua_pt_br if palavra not in stopwords_pt_br]\n",
        "del stopwords_pt_br\n",
        "\n",
        "lingua_pt_br = set(lingua_pt_br)\n",
        "\n",
        "dirty_words = set()\n",
        "\n",
        "def limpa_trilho(coluna):\n",
        "    global dirty_words\n",
        "    clean_words = []\n",
        "    for word in str(coluna).split():\n",
        "        word = str(word).lower()\n",
        "        word = unidecode(word)\n",
        "        word = re.sub(r'[^A-Za-z0-9° ]', '', word)\n",
        "        if word in lingua_pt_br:\n",
        "            clean_words.append(word)\n",
        "        else:\n",
        "            if word not in dirty_words:\n",
        "                dirty_words.add(word)\n",
        "            else:\n",
        "                pass\n",
        "        # clean_words.append(word)\n",
        "    return \" \".join(clean_words)\n",
        "    del clean_words"
      ]
    },
    {
      "cell_type": "code",
      "execution_count": 4,
      "metadata": {
        "colab": {
          "base_uri": "https://localhost:8080/"
        },
        "collapsed": true,
        "id": "VG6YtHrYbBf5",
        "outputId": "e6b77aa8-87cd-4a5b-85ac-1c99d34e839a"
      },
      "outputs": [
        {
          "data": {
            "text/plain": [
              "'21 11 - POS 8483 - ÍNDIA.xlsx'"
            ]
          },
          "metadata": {},
          "output_type": "display_data"
        },
        {
          "data": {
            "text/html": [
              "<div>\n",
              "<style scoped>\n",
              "    .dataframe tbody tr th:only-of-type {\n",
              "        vertical-align: middle;\n",
              "    }\n",
              "\n",
              "    .dataframe tbody tr th {\n",
              "        vertical-align: top;\n",
              "    }\n",
              "\n",
              "    .dataframe thead th {\n",
              "        text-align: right;\n",
              "    }\n",
              "</style>\n",
              "<table border=\"1\" class=\"dataframe\">\n",
              "  <thead>\n",
              "    <tr style=\"text-align: right;\">\n",
              "      <th></th>\n",
              "      <th>NCM</th>\n",
              "      <th>tags</th>\n",
              "    </tr>\n",
              "  </thead>\n",
              "  <tbody>\n",
              "    <tr>\n",
              "      <th>0</th>\n",
              "      <td>84834010</td>\n",
              "      <td>ex caixas multiplicacao rotacao transmissao ap...</td>\n",
              "    </tr>\n",
              "  </tbody>\n",
              "</table>\n",
              "</div>"
            ],
            "text/plain": [
              "        NCM                                               tags\n",
              "0  84834010  ex caixas multiplicacao rotacao transmissao ap..."
            ]
          },
          "metadata": {},
          "output_type": "display_data"
        },
        {
          "name": "stdout",
          "output_type": "stream",
          "text": [
            "|████████████████████████████████████████| 103/103 [100%] in 8:10.0 (0.21/s)    \n"
          ]
        }
      ],
      "source": [
        "prefixes = ['COD.NCM', 'NCM', 'DESCRICAO_DETALHADA', 'DESCRICAO DO PRODUTO']\n",
        "\n",
        "with alive_bar(len(os.listdir(excel_dir)), force_tty=True) as bar:\n",
        "    with os.scandir(excel_dir) as excels:\n",
        "        for entry in excels:\n",
        "            if entry.is_file():\n",
        "                df_feather = pd.DataFrame()\n",
        "                print(entry.name)\n",
        "                with pd.ExcelFile(f'{excel_dir}/{entry.name}') as xls:\n",
        "                    df_feather = pd.read_excel(xls, header=0, usecols=\"A:Y\", nrows=150000)\n",
        "                selec_cols = [col for col in df_feather.columns if any(col.startswith(prefix) for prefix in prefixes)]\n",
        "                df_feather = df_feather[selec_cols]\n",
        "                NCM_col = [col for col in df_feather.columns if 'ncm' in col.lower()]\n",
        "                Desc_col = [col for col in df_feather.columns if 'descricao' in col.lower()]\n",
        "                df_feather = df_feather.rename(columns={NCM_col[0]: 'NCM', Desc_col[0]: 'Descricao Item'})\n",
        "                df_feather = df_feather.dropna()\n",
        "                df_feather['tags'] = df_feather['Descricao Item'].apply(limpa_trilho)\n",
        "\n",
        "                extension = entry.name.rsplit('.', 1)\n",
        "                feather_name = entry.name.replace('.xlsx', '.fea')\n",
        "                df_feather.to_feather(f'{feather_dir}/{feather_name}')\n",
        "                gc.collect()\n",
        "            bar()\n",
        "        gc.collect()"
      ]
    },
    {
      "cell_type": "code",
      "execution_count": 6,
      "metadata": {
        "colab": {
          "base_uri": "https://localhost:8080/"
        },
        "id": "yhnBZVxBOUyg",
        "outputId": "05a2714e-2c60-4fa1-a3cd-392edb915366"
      },
      "outputs": [
        {
          "name": "stdout",
          "output_type": "stream",
          "text": [
            "Feather: 34558\n",
            "Excel: 34558\n"
          ]
        }
      ],
      "source": [
        "feather = len(pd.read_feather(f'{feather_dir}/21 01 - CAP 40 - CHINA.fea'))\n",
        "excel = len(pd.read_excel(f'{excel_dir}/21 01 - CAP 40 - CHINA.xlsx', header=0))\n",
        "\n",
        "print(f'Feather: {feather}')\n",
        "print(f'Excel: {excel}')"
      ]
    },
    {
      "cell_type": "code",
      "execution_count": 7,
      "metadata": {
        "colab": {
          "base_uri": "https://localhost:8080/",
          "height": 580
        },
        "collapsed": true,
        "id": "JMSk0H2rIKkz",
        "outputId": "089ecead-e4cb-4ec3-a889-803b4ad1c220"
      },
      "outputs": [
        {
          "name": "stdout",
          "output_type": "stream",
          "text": [
            "on 0: 21 01 - CAP 40 - ALEMANHA.fea                                             \n",
            "on 0: 21 01 - CAP 40 - CHINA.fea                                                \n",
            "on 0: 21 01 - CAP 40 - INDIA.fea                                                \n",
            "on 0: 21 01 - CAP 73 - CHINA.fea                                                \n",
            "on 0: 21 01 - CAP 87 - CHINA.fea                                                \n",
            "on 0: 21 01 - POS 8482 - CHINA.fea                                              \n",
            "on 0: 21 01 - POS 8482 - ÍNDIA.fea                                              \n",
            "on 0: 21 01 - POS 8483 - CHINA.fea                                              \n",
            "on 0: 21 02 - CAP 40 - ALEMANHA.fea                                             \n",
            "on 0: 21 02 - CAP 40 - CHINA.fea                                                \n",
            "on 0: 21 02 - CAP 40 - INDIA.fea                                                \n",
            "on 0: 21 02 - CAP 73 - CHINA.fea                                                \n",
            "on 0: 21 02 - CAP 87 - CHINA.fea                                                \n",
            "on 0: 21 02 - POS 8482 - CHINA.fea                                              \n",
            "on 0: 21 02 - POS 8482 - ÍNDIA.fea                                              \n",
            "on 0: 21 02 - POS 8483 - CHINA.fea                                              \n",
            "on 0: 21 02 - POS 8483 - ÍNDIA.fea                                              \n",
            "on 0: 21 03 - CAP 40 - ALEMANHA.fea                                             \n",
            "on 0: 21 03 - CAP 40 - CHINA.fea                                                \n",
            "on 0: 21 03 - CAP 40 - INDIA.fea                                                \n",
            "on 0: 21 03 - CAP 73 - CHINA.fea                                                \n",
            "on 0: 21 03 - CAP 87 - CHINA.fea                                                \n",
            "on 0: 21 03 - POS 8482 - CHINA.fea                                              \n",
            "on 0: 21 03 - POS 8482 - ÍNDIA.fea                                              \n",
            "on 0: 21 03 - POS 8483 - CHINA.fea                                              \n",
            "on 0: 21 03 - POS 8483 - ÍNDIA.fea                                              \n",
            "on 0: 21 04 - CAP 40 - ALEMANHA.fea                                             \n",
            "on 0: 21 04 - CAP 40 - CHINA.fea                                                \n",
            "on 0: 21 04 - CAP 40 - INDIA.fea                                                \n",
            "on 0: 21 04 - CAP 73 - CHINA.fea                                                \n",
            "on 0: 21 04 - CAP 87 - CHINA.fea                                                \n",
            "on 0: 21 04 - POS 8482 - CHINA.fea                                              \n",
            "on 0: 21 04 - POS 8482 - ÍNDIA.fea                                              \n",
            "on 0: 21 04 - POS 8483 - CHINA.fea                                              \n",
            "on 0: 21 04 - POS 8483 - ÍNDIA.fea                                              \n",
            "on 0: 21 05 - CAP 40 - ALEMANHA.fea                                             \n",
            "on 0: 21 05 - CAP 40 - CHINA.fea                                                \n",
            "on 0: 21 05 - CAP 40 - INDIA.fea                                                \n",
            "on 0: 21 05 - CAP 73 - CHINA.fea                                                \n",
            "on 0: 21 05 - CAP 87 - CHINA.fea                                                \n",
            "on 0: 21 05 - POS 8482 - CHINA.fea                                              \n",
            "on 0: 21 05 - POS 8482 - ÍNDIA.fea                                              \n",
            "on 0: 21 05 - POS 8483 - CHINA.fea                                              \n",
            "on 0: 21 05 - POS 8483 - ÍNDIA.fea                                              \n",
            "on 0: 21 06 - CAP 40 - ALEMANHA.fea                                             \n",
            "on 0: 21 06 - CAP 40 - CHINA.fea                                                \n",
            "on 0: 21 06 - CAP 40 - MALÁSIA.fea                                              \n",
            "on 0: 21 06 - CAP 40 - ÍNDIA.fea                                                \n",
            "on 0: 21 06 - CAP 87 - CHINA.fea                                                \n",
            "on 0: 21 06 - POS 8482 - CHINA.fea                                              \n",
            "on 0: 21 06 - POS 8482 - ÍNDIA.fea                                              \n",
            "on 0: 21 06 - POS 8483 - CHINA.fea                                              \n",
            "on 0: 21 06 - POS 8483 - ÍNDIA.fea                                              \n",
            "on 0: 21 07 - CAP 40 - ALEMANHA.fea                                             \n",
            "on 0: 21 07 - CAP 40 - CHINA.fea                                                \n",
            "on 0: 21 07 - CAP 40 - MALÁSIA.fea                                              \n",
            "on 0: 21 07 - CAP 40 - ÍNDIA.fea                                                \n",
            "on 0: 21 07 - CAP 73 - CHINA.fea                                                \n",
            "on 0: 21 07 - CAP 87 - CHINA.fea                                                \n",
            "on 0: 21 07 - POS 8482 - CHINA.fea                                              \n",
            "on 0: 21 07 - POS 8482 - ÍNDIA.fea                                              \n",
            "on 0: 21 07 - POS 8483 - CHINA.fea                                              \n",
            "on 0: 21 07 - POS 8483 - ÍNDIA.fea                                              \n",
            "on 0: 21 08 - CAP 40 - ALEMANHA.fea                                             \n",
            "on 0: 21 08 - CAP 40 - CHINA.fea                                                \n",
            "on 0: 21 08 - CAP 40 - MALÁSIA.fea                                              \n",
            "on 0: 21 08 - CAP 40 - ÍNDIA.fea                                                \n",
            "on 0: 21 08 - CAP 73 - CHINA.fea                                                \n",
            "on 0: 21 08 - CAP 87 - CHINA.fea                                                \n",
            "on 0: 21 08 - POS  8483 - ÍNDIA.fea                                             \n",
            "on 0: 21 08 - POS 8482 - CHINA.fea                                              \n",
            "on 0: 21 08 - POS 8482 - ÍNDIA.fea                                              \n",
            "on 0: 21 08 - POS 8483 - CHINA.fea                                              \n",
            "on 0: 21 09 - CAP 40 - ALEMANHA.fea                                             \n",
            "on 0: 21 09 - CAP 40 - CHINA.fea                                                \n",
            "on 0: 21 09 - CAP 40 - MALÁSIA.fea                                              \n",
            "on 0: 21 09 - CAP 40 - ÍNDIA.fea                                                \n",
            "on 0: 21 09 - CAP 73 - CHINA.fea                                                \n",
            "on 0: 21 09 - CAP 87 - CHINA.fea                                                \n",
            "on 0: 21 09 - POS 8482 - CHINA.fea                                              \n",
            "on 0: 21 09 - POS 8482 - ÍNDIA.fea                                              \n",
            "on 0: 21 09 - POS 8483 - CHINA.fea                                              \n",
            "on 0: 21 09 - POS 8483 - ÍNDIA.fea                                              \n",
            "on 0: 21 10 - CAP 40 - ALEMANHA.fea                                             \n",
            "on 0: 21 10 - CAP 40 - CHINA.fea                                                \n",
            "on 0: 21 10 - CAP 40 - MALÁSIA.fea                                              \n",
            "on 0: 21 10 - CAP 40 - ÍNDIA.fea                                                \n",
            "on 0: 21 10 - CAP 73 - CHINA.fea                                                \n",
            "on 0: 21 10 - CAP 87 - CHINA.fea                                                \n",
            "on 0: 21 10 - POS 8482 - CHINA.fea                                              \n",
            "on 0: 21 10 - POS 8482 - ÍNDIA.fea                                              \n",
            "on 0: 21 10 - POS 8483 - CHINA.fea                                              \n",
            "on 0: 21 10 - POS 8483 - ÍNDIA.fea                                              \n",
            "on 0: 21 11 - CAP 40 - ALEMANHA.fea                                             \n",
            "on 0: 21 11 - CAP 40 - CHINA.fea                                                \n",
            "on 0: 21 11 - CAP 40 - MALÁSIA.fea                                              \n",
            "on 0: 21 11 - CAP 40 - ÍNDIA.fea                                                \n",
            "on 0: 21 11 - CAP 73 - CHINA.fea                                                \n",
            "on 0: 21 11 - CAP 87 - CHINA.fea                                                \n",
            "on 0: 21 11 - POS 8482 - CHINA.fea                                              \n",
            "on 0: 21 11 - POS 8482 - ÍNDIA.fea                                              \n",
            "on 0: 21 11 - POS 8483 - CHINA.fea                                              \n",
            "on 0: 21 11 - POS 8483 - ÍNDIA.fea                                              \n",
            "|⚠︎                                       | (!) 0/103 [0%] in 3.4s (0.00/s)      \n"
          ]
        },
        {
          "data": {
            "text/html": [
              "<div>\n",
              "<style scoped>\n",
              "    .dataframe tbody tr th:only-of-type {\n",
              "        vertical-align: middle;\n",
              "    }\n",
              "\n",
              "    .dataframe tbody tr th {\n",
              "        vertical-align: top;\n",
              "    }\n",
              "\n",
              "    .dataframe thead th {\n",
              "        text-align: right;\n",
              "    }\n",
              "</style>\n",
              "<table border=\"1\" class=\"dataframe\">\n",
              "  <thead>\n",
              "    <tr style=\"text-align: right;\">\n",
              "      <th></th>\n",
              "      <th>NCM</th>\n",
              "      <th>tags</th>\n",
              "    </tr>\n",
              "  </thead>\n",
              "  <tbody>\n",
              "    <tr>\n",
              "      <th>0</th>\n",
              "      <td>40011000</td>\n",
              "      <td>latex borracha natural</td>\n",
              "    </tr>\n",
              "    <tr>\n",
              "      <th>1</th>\n",
              "      <td>40012990</td>\n",
              "      <td>unidade manopla uso aeronave</td>\n",
              "    </tr>\n",
              "    <tr>\n",
              "      <th>2</th>\n",
              "      <td>40012990</td>\n",
              "      <td>membrana pinca utilizacao maquina lavanderia i...</td>\n",
              "    </tr>\n",
              "    <tr>\n",
              "      <th>3</th>\n",
              "      <td>40012990</td>\n",
              "      <td>unidades manopla uso aeronave</td>\n",
              "    </tr>\n",
              "    <tr>\n",
              "      <th>4</th>\n",
              "      <td>40021110</td>\n",
              "      <td>composto borracha usado limpeza molde industri...</td>\n",
              "    </tr>\n",
              "    <tr>\n",
              "      <th>...</th>\n",
              "      <td>...</td>\n",
              "      <td>...</td>\n",
              "    </tr>\n",
              "    <tr>\n",
              "      <th>2401812</th>\n",
              "      <td>84836090</td>\n",
              "      <td>articulacao esferica fabricada aco carbono tra...</td>\n",
              "    </tr>\n",
              "    <tr>\n",
              "      <th>2401813</th>\n",
              "      <td>84833029</td>\n",
              "      <td>inferior torre</td>\n",
              "    </tr>\n",
              "    <tr>\n",
              "      <th>2401814</th>\n",
              "      <td>84834090</td>\n",
              "      <td>plastico eixo transmissao cedulas modulo bilhe...</td>\n",
              "    </tr>\n",
              "    <tr>\n",
              "      <th>2401815</th>\n",
              "      <td>84833029</td>\n",
              "      <td>rolamento incorporado diametro interno motores...</td>\n",
              "    </tr>\n",
              "    <tr>\n",
              "      <th>2401816</th>\n",
              "      <td>84834090</td>\n",
              "      <td>plastico eixo transmissao cedulas modulo bilhe...</td>\n",
              "    </tr>\n",
              "  </tbody>\n",
              "</table>\n",
              "<p>2401817 rows × 2 columns</p>\n",
              "</div>"
            ],
            "text/plain": [
              "              NCM                                               tags\n",
              "0        40011000                             latex borracha natural\n",
              "1        40012990                       unidade manopla uso aeronave\n",
              "2        40012990  membrana pinca utilizacao maquina lavanderia i...\n",
              "3        40012990                      unidades manopla uso aeronave\n",
              "4        40021110  composto borracha usado limpeza molde industri...\n",
              "...           ...                                                ...\n",
              "2401812  84836090  articulacao esferica fabricada aco carbono tra...\n",
              "2401813  84833029                                     inferior torre\n",
              "2401814  84834090  plastico eixo transmissao cedulas modulo bilhe...\n",
              "2401815  84833029  rolamento incorporado diametro interno motores...\n",
              "2401816  84834090  plastico eixo transmissao cedulas modulo bilhe...\n",
              "\n",
              "[2401817 rows x 2 columns]"
            ]
          },
          "metadata": {},
          "output_type": "display_data"
        }
      ],
      "source": [
        "df_chicken = pd.DataFrame()\n",
        "\n",
        "with alive_bar(len(os.listdir(feather_dir)), force_tty=True) as bar:\n",
        "    with os.scandir(feather_dir) as feathers:\n",
        "        for entry in feathers:\n",
        "            if entry.is_file():\n",
        "                df_feather = pd.DataFrame()\n",
        "                ftr = f'{feather_dir}/{entry.name}'\n",
        "                df_feather = pd.read_feather(ftr)\n",
        "\n",
        "                # X = df_feather.drop('NCM', axis=1)\n",
        "                # y = df_feather['NCM']\n",
        "                # print(Counter(y).items())\n",
        "                # sampling_strategy = {category: max(int(round(count*0.7,0)), 1) for category, count in Counter(y).items()}\n",
        "                # rus = RandomUnderSampler(sampling_strategy=sampling_strategy, random_state=42)\n",
        "                # X_resampled, y_resampled = rus.fit_resample(X, y)\n",
        "                # df_feather = pd.concat([X_resampled, y_resampled], axis=1)\n",
        "\n",
        "                df_chicken = pd.concat([df_chicken, df_feather], ignore_index=True)\n",
        "\n",
        "df_chicken = df_chicken[(df_chicken['NCM'] >= 84820000) & (df_chicken['NCM'] < 84830000)]\n",
        "display(df_chicken)"
      ]
    },
    {
      "cell_type": "code",
      "execution_count": 9,
      "metadata": {
        "id": "DMn6u4HkLY72"
      },
      "outputs": [
        {
          "ename": "MemoryError",
          "evalue": "Unable to allocate 189. GiB for an array with shape (2401817, 10568) and data type int64",
          "output_type": "error",
          "traceback": [
            "\u001b[1;31m---------------------------------------------------------------------------\u001b[0m",
            "\u001b[1;31mMemoryError\u001b[0m                               Traceback (most recent call last)",
            "Cell \u001b[1;32mIn[9], line 3\u001b[0m\n\u001b[0;32m      1\u001b[0m vectorizer \u001b[38;5;241m=\u001b[39m CountVectorizer()\n\u001b[0;32m      2\u001b[0m doc_term_matrix \u001b[38;5;241m=\u001b[39m vectorizer\u001b[38;5;241m.\u001b[39mfit_transform(df_chicken[\u001b[38;5;124m'\u001b[39m\u001b[38;5;124mtags\u001b[39m\u001b[38;5;124m'\u001b[39m])\n\u001b[1;32m----> 3\u001b[0m pd\u001b[38;5;241m.\u001b[39mDataFrame(\u001b[43mdoc_term_matrix\u001b[49m\u001b[38;5;241;43m.\u001b[39;49m\u001b[43mtoarray\u001b[49m\u001b[43m(\u001b[49m\u001b[43m)\u001b[49m,columns \u001b[38;5;241m=\u001b[39m vectorizer\u001b[38;5;241m.\u001b[39mget_feature_names_out())\n\u001b[0;32m      5\u001b[0m X_train, X_test, y_train, y_test \u001b[38;5;241m=\u001b[39m train_test_split(doc_term_matrix,\n\u001b[0;32m      6\u001b[0m                                                      df_chicken[\u001b[38;5;124m'\u001b[39m\u001b[38;5;124mNCM\u001b[39m\u001b[38;5;124m'\u001b[39m],\n\u001b[0;32m      7\u001b[0m                                                      random_state\u001b[38;5;241m=\u001b[39m\u001b[38;5;241m42\u001b[39m,\n\u001b[0;32m      8\u001b[0m                                                      test_size\u001b[38;5;241m=\u001b[39m\u001b[38;5;241m0.25\u001b[39m)\n\u001b[0;32m     10\u001b[0m model \u001b[38;5;241m=\u001b[39m MultinomialNB()\n",
            "File \u001b[1;32mc:\\Users\\marti\\AppData\\Local\\Programs\\Python\\Python312\\Lib\\site-packages\\scipy\\sparse\\_compressed.py:1181\u001b[0m, in \u001b[0;36m_cs_matrix.toarray\u001b[1;34m(self, order, out)\u001b[0m\n\u001b[0;32m   1179\u001b[0m \u001b[38;5;28;01mif\u001b[39;00m out \u001b[38;5;129;01mis\u001b[39;00m \u001b[38;5;28;01mNone\u001b[39;00m \u001b[38;5;129;01mand\u001b[39;00m order \u001b[38;5;129;01mis\u001b[39;00m \u001b[38;5;28;01mNone\u001b[39;00m:\n\u001b[0;32m   1180\u001b[0m     order \u001b[38;5;241m=\u001b[39m \u001b[38;5;28mself\u001b[39m\u001b[38;5;241m.\u001b[39m_swap(\u001b[38;5;124m'\u001b[39m\u001b[38;5;124mcf\u001b[39m\u001b[38;5;124m'\u001b[39m)[\u001b[38;5;241m0\u001b[39m]\n\u001b[1;32m-> 1181\u001b[0m out \u001b[38;5;241m=\u001b[39m \u001b[38;5;28;43mself\u001b[39;49m\u001b[38;5;241;43m.\u001b[39;49m\u001b[43m_process_toarray_args\u001b[49m\u001b[43m(\u001b[49m\u001b[43morder\u001b[49m\u001b[43m,\u001b[49m\u001b[43m \u001b[49m\u001b[43mout\u001b[49m\u001b[43m)\u001b[49m\n\u001b[0;32m   1182\u001b[0m \u001b[38;5;28;01mif\u001b[39;00m \u001b[38;5;129;01mnot\u001b[39;00m (out\u001b[38;5;241m.\u001b[39mflags\u001b[38;5;241m.\u001b[39mc_contiguous \u001b[38;5;129;01mor\u001b[39;00m out\u001b[38;5;241m.\u001b[39mflags\u001b[38;5;241m.\u001b[39mf_contiguous):\n\u001b[0;32m   1183\u001b[0m     \u001b[38;5;28;01mraise\u001b[39;00m \u001b[38;5;167;01mValueError\u001b[39;00m(\u001b[38;5;124m'\u001b[39m\u001b[38;5;124mOutput array must be C or F contiguous\u001b[39m\u001b[38;5;124m'\u001b[39m)\n",
            "File \u001b[1;32mc:\\Users\\marti\\AppData\\Local\\Programs\\Python\\Python312\\Lib\\site-packages\\scipy\\sparse\\_base.py:1301\u001b[0m, in \u001b[0;36m_spbase._process_toarray_args\u001b[1;34m(self, order, out)\u001b[0m\n\u001b[0;32m   1299\u001b[0m     \u001b[38;5;28;01mreturn\u001b[39;00m out\n\u001b[0;32m   1300\u001b[0m \u001b[38;5;28;01melse\u001b[39;00m:\n\u001b[1;32m-> 1301\u001b[0m     \u001b[38;5;28;01mreturn\u001b[39;00m \u001b[43mnp\u001b[49m\u001b[38;5;241;43m.\u001b[39;49m\u001b[43mzeros\u001b[49m\u001b[43m(\u001b[49m\u001b[38;5;28;43mself\u001b[39;49m\u001b[38;5;241;43m.\u001b[39;49m\u001b[43mshape\u001b[49m\u001b[43m,\u001b[49m\u001b[43m \u001b[49m\u001b[43mdtype\u001b[49m\u001b[38;5;241;43m=\u001b[39;49m\u001b[38;5;28;43mself\u001b[39;49m\u001b[38;5;241;43m.\u001b[39;49m\u001b[43mdtype\u001b[49m\u001b[43m,\u001b[49m\u001b[43m \u001b[49m\u001b[43morder\u001b[49m\u001b[38;5;241;43m=\u001b[39;49m\u001b[43morder\u001b[49m\u001b[43m)\u001b[49m\n",
            "\u001b[1;31mMemoryError\u001b[0m: Unable to allocate 189. GiB for an array with shape (2401817, 10568) and data type int64"
          ]
        }
      ],
      "source": [
        "from sklearn.model_selection import train_test_split\n",
        "from sklearn.feature_extraction.text import CountVectorizer\n",
        "from sklearn.naive_bayes import MultinomialNB\n",
        "\n",
        "vectorizer = CountVectorizer()\n",
        "doc_term_matrix = vectorizer.fit_transform(df_chicken['tags'])\n",
        "\n",
        "X_train, X_test, y_train, y_test = train_test_split(doc_term_matrix,\n",
        "                                                    df_chicken['NCM'],\n",
        "                                                    random_state=42,\n",
        "                                                    test_size=0.2)\n",
        "\n",
        "model = MultinomialNB()\n",
        "model.fit(X_train, y_train)\n",
        "pred = model.predict(X_test)"
      ]
    },
    {
      "cell_type": "code",
      "execution_count": null,
      "metadata": {
        "id": "VE4OlqqaYEGX"
      },
      "outputs": [],
      "source": [
        "from sklearn.metrics import accuracy_score\n",
        "from sklearn.metrics import confusion_matrix\n",
        "\n",
        "print(f'Accuracy: {accuracy_score(y_test, pred)}')\n",
        "matrix = confusion_matrix(y_test, pred)\n",
        "matrix.diagonal()/matrix.sum(axis=1)\n",
        "class_accuracies = matrix.diagonal() / matrix.sum(axis=1)\n",
        "class_labels = model.classes_\n",
        "per_class_accuracy = dict(zip(class_labels, class_accuracies))\n",
        "\n",
        "acc_df = pd.DataFrame(list(per_class_accuracy.items()), columns=['Class', 'Accuracy'])\n",
        "acc_df.to_excel('/content/acc.xlsx', index=False)\n",
        "display(acc_df)"
      ]
    },
    {
      "cell_type": "code",
      "execution_count": null,
      "metadata": {
        "id": "cNfPfJgXsqvr"
      },
      "outputs": [],
      "source": [
        "import joblib\n",
        "\n",
        "joblib.dump(model, '/content/trained_model.joblib')\n",
        "joblib.dump(vectorizer, '/content/vectorizer.joblib')\n",
        "\n",
        "def load_model_and_vectorizer(model_path, vectorizer_path):\n",
        "    model = joblib.load(model_path)\n",
        "    vectorizer = joblib.load(vectorizer_path)\n",
        "    return model, vectorizer\n",
        "\n",
        "def predict_ncm(product_description, model, vectorizer):\n",
        "    product_description = limpa_trilho(product_description)\n",
        "    description_vectorized = vectorizer.transform([product_description])\n",
        "    predicted_ncm = model.predict(description_vectorized)\n",
        "    return predicted_ncm[0]"
      ]
    },
    {
      "cell_type": "code",
      "execution_count": null,
      "metadata": {
        "id": "1qpUkAvULlQa"
      },
      "outputs": [],
      "source": [
        "loaded_model, loaded_vectorizer = load_model_and_vectorizer('trained_model.joblib', 'vectorizer.joblib')\n",
        "\n",
        "product_description = input(\"Inform the detailed product description: \")\n",
        "\n",
        "predicted_ncm = predict_ncm(product_description, loaded_model, loaded_vectorizer)\n",
        "print(\"Suggested NCM code:\", predicted_ncm)"
      ]
    }
  ],
  "metadata": {
    "colab": {
      "provenance": []
    },
    "kernelspec": {
      "display_name": "Python 3",
      "name": "python3"
    },
    "language_info": {
      "codemirror_mode": {
        "name": "ipython",
        "version": 3
      },
      "file_extension": ".py",
      "mimetype": "text/x-python",
      "name": "python",
      "nbconvert_exporter": "python",
      "pygments_lexer": "ipython3",
      "version": "3.12.4"
    }
  },
  "nbformat": 4,
  "nbformat_minor": 0
}
